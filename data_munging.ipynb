{
 "metadata": {
  "name": "",
  "signature": "sha256:9d72bdd8f9a90e2c6b19bf233e61be3cfeee1919b8a7c9cbabe5426a8bf261e3"
 },
 "nbformat": 3,
 "nbformat_minor": 0,
 "worksheets": [
  {
   "cells": [
    {
     "cell_type": "heading",
     "level": 3,
     "metadata": {},
     "source": [
      "Import data"
     ]
    },
    {
     "cell_type": "code",
     "collapsed": false,
     "input": [
      "import pandas as pd\n",
      "\n",
      "df = pd.read_csv('MIDLOC_1.1.csv')\n",
      "df = df[['latitude', 'longitude', 'precision']]\n",
      "df = df[(df.latitude != -9999) & (df.longitude != -9999) & df.precision.isin([1, 2, 3])]\n",
      "df.head()\n",
      "#df.min(), df.max()"
     ],
     "language": "python",
     "metadata": {},
     "outputs": [
      {
       "html": [
        "<div style=\"max-height:1000px;max-width:1500px;overflow:auto;\">\n",
        "<table border=\"1\" class=\"dataframe\">\n",
        "  <thead>\n",
        "    <tr style=\"text-align: right;\">\n",
        "      <th></th>\n",
        "      <th>latitude</th>\n",
        "      <th>longitude</th>\n",
        "      <th>precision</th>\n",
        "    </tr>\n",
        "  </thead>\n",
        "  <tbody>\n",
        "    <tr>\n",
        "      <th>9 </th>\n",
        "      <td> 41.01861</td>\n",
        "      <td> 28.96472</td>\n",
        "      <td> 1</td>\n",
        "    </tr>\n",
        "    <tr>\n",
        "      <th>10</th>\n",
        "      <td> 45.95000</td>\n",
        "      <td>-66.63333</td>\n",
        "      <td> 3</td>\n",
        "    </tr>\n",
        "    <tr>\n",
        "      <th>13</th>\n",
        "      <td> 38.24944</td>\n",
        "      <td> 48.30139</td>\n",
        "      <td> 3</td>\n",
        "    </tr>\n",
        "    <tr>\n",
        "      <th>18</th>\n",
        "      <td> 52.52000</td>\n",
        "      <td> 13.38000</td>\n",
        "      <td> 1</td>\n",
        "    </tr>\n",
        "    <tr>\n",
        "      <th>19</th>\n",
        "      <td> 52.52000</td>\n",
        "      <td> 13.38000</td>\n",
        "      <td> 1</td>\n",
        "    </tr>\n",
        "  </tbody>\n",
        "</table>\n",
        "</div>"
       ],
       "metadata": {},
       "output_type": "pyout",
       "prompt_number": 250,
       "text": [
        "    latitude  longitude  precision\n",
        "9   41.01861   28.96472          1\n",
        "10  45.95000  -66.63333          3\n",
        "13  38.24944   48.30139          3\n",
        "18  52.52000   13.38000          1\n",
        "19  52.52000   13.38000          1"
       ]
      }
     ],
     "prompt_number": 250
    },
    {
     "cell_type": "heading",
     "level": 3,
     "metadata": {},
     "source": [
      "Calculate Gaussian KDE"
     ]
    },
    {
     "cell_type": "code",
     "collapsed": false,
     "input": [
      "%matplotlib inline\n",
      "import numpy as np\n",
      "import scipy.stats as stats\n",
      "from matplotlib.pyplot import imshow, scatter, colorbar, figure, hist\n",
      " \n",
      " \n",
      "kde = stats.kde.gaussian_kde(df[['latitude', 'longitude']].values.T)\n",
      " \n",
      "# Regular grid to evaluate kde upon\n",
      "x_grid = np.linspace(df.latitude.min(), df.latitude.max(), 360)\n",
      "y_grid = np.linspace(df.longitude.min(), df.longitude.max(), 180)\n",
      "x, y = np.meshgrid(x_grid, y_grid)\n",
      "grid_coords = np.append(x.reshape(-1,1), y.reshape(-1,1), axis=1)\n",
      "kde.set_bandwidth(bw_method=kde.factor / 3.) \n",
      "z = kde(grid_coords.T)\n",
      "z = z / z.max()# rescale\n",
      "#z[z < 0.1]\n",
      "z2D = z.reshape(180, 360).T\n",
      " \n",
      "#scatter(rvs[:,0],rvs[:,1],alpha=0.5,color='white')\n",
      "imshow(z2D,#aspect=y_flat.ptp()/ x_flat.ptp(),\n",
      "       origin='lower',\n",
      "       extent=(df.longitude.min(), df.longitude.max(),\n",
      "       df.latitude.min(), df.latitude.max()))\n",
      "colorbar()"
     ],
     "language": "python",
     "metadata": {},
     "outputs": [
      {
       "metadata": {},
       "output_type": "pyout",
       "prompt_number": 263,
       "text": [
        "<matplotlib.colorbar.Colorbar instance at 0x11743fa70>"
       ]
      },
      {
       "metadata": {},
       "output_type": "display_data",
       "png": "[encoded data removed]",
       "text": [
        "<matplotlib.figure.Figure at 0x1176e8450>"
       ]
      }
     ],
     "prompt_number": 263
    },
    {
     "cell_type": "code",
     "collapsed": false,
     "input": [
      "hist(z[z > 0.1]);"
     ],
     "language": "python",
     "metadata": {},
     "outputs": [
      {
       "metadata": {},
       "output_type": "display_data",
       "png": "[encoded data removed]",
       "text": [
        "<matplotlib.figure.Figure at 0x112227dd0>"
       ]
      }
     ],
     "prompt_number": 255
    },
    {
     "cell_type": "heading",
     "level": 3,
     "metadata": {},
     "source": [
      "Prepare KDE JSON file"
     ]
    },
    {
     "cell_type": "code",
     "collapsed": false,
     "input": [
      "import json\n",
      "\n",
      "data = np.column_stack([grid_coords, z])\n",
      "data = data[z > 0.001].flatten().tolist()\n",
      "\n",
      "with open('globe/war.json', 'w') as f:\n",
      "    json.dump([[\"frequency\", data]], f)"
     ],
     "language": "python",
     "metadata": {},
     "outputs": [],
     "prompt_number": 245
    },
    {
     "cell_type": "heading",
     "level": 3,
     "metadata": {},
     "source": [
      "Prepare flat JSON file"
     ]
    },
    {
     "cell_type": "code",
     "collapsed": false,
     "input": [
      "import json\n",
      "\n",
      "df2 = df[['latitude', 'longitude']]\n",
      "df2['magnitude'] = 0.001\n",
      "data = df2.values.flatten().tolist()\n",
      "with open('globe/war_no_smooth.json', 'w') as f:\n",
      "    json.dump([[\"frequency\", data]], f)"
     ],
     "language": "python",
     "metadata": {},
     "outputs": [],
     "prompt_number": 258
    },
    {
     "cell_type": "code",
     "collapsed": false,
     "input": [
      "len(data) / 3"
     ],
     "language": "python",
     "metadata": {},
     "outputs": [
      {
       "metadata": {},
       "output_type": "pyout",
       "prompt_number": 209,
       "text": [
        "3864"
       ]
      }
     ],
     "prompt_number": 209
    }
   ],
   "metadata": {}
  }
 ]
}